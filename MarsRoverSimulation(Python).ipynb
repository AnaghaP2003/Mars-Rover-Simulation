{
  "nbformat": 4,
  "nbformat_minor": 0,
  "metadata": {
    "colab": {
      "provenance": []
    },
    "kernelspec": {
      "name": "python3",
      "display_name": "Python 3"
    },
    "language_info": {
      "name": "python"
    }
  },
  "cells": [
    {
      "cell_type": "markdown",
      "source": [
        "# **Mars Rover Simulation: Object-Oriented Programming and Design Patterns**\n",
        "\n",
        "This notebook implements a Mars Rover simulation using Object-Oriented Programming and design patterns (Command, Composite). The code is split into sections: Direction (handles rover's movement), Rover (defines rover's behavior), Grid (manages the terrain and obstacles), Commands (encapsulates movement and turning logic), and the Main section (runs the simulation with a sample set of commands).\n"
      ],
      "metadata": {
        "id": "UK4pUyQhuSi3"
      }
    },
    {
      "cell_type": "markdown",
      "source": [
        "class Direction"
      ],
      "metadata": {
        "id": "VfyDIMNjxTT3"
      }
    },
    {
      "cell_type": "code",
      "source": [
        "class Direction:\n",
        "    def move_forward(self, rover):\n",
        "        pass\n",
        "\n",
        "    def turn_left(self):\n",
        "        pass\n",
        "\n",
        "    def turn_right(self):\n",
        "        pass\n",
        "\n",
        "class North(Direction):\n",
        "    def move_forward(self, rover):\n",
        "        rover.y += 1\n",
        "\n",
        "    def turn_left(self):\n",
        "        return West()\n",
        "\n",
        "    def turn_right(self):\n",
        "        return East()\n",
        "\n",
        "class South(Direction):\n",
        "    def move_forward(self, rover):\n",
        "        rover.y -= 1\n",
        "\n",
        "    def turn_left(self):\n",
        "        return East()\n",
        "\n",
        "    def turn_right(self):\n",
        "        return West()\n",
        "\n",
        "class East(Direction):\n",
        "    def move_forward(self, rover):\n",
        "        rover.x += 1\n",
        "\n",
        "    def turn_left(self):\n",
        "        return North()\n",
        "\n",
        "    def turn_right(self):\n",
        "        return South()\n",
        "\n",
        "class West(Direction):\n",
        "    def move_forward(self, rover):\n",
        "        rover.x -= 1\n",
        "\n",
        "    def turn_left(self):\n",
        "        return South()\n",
        "\n",
        "    def turn_right(self):\n",
        "        return North()"
      ],
      "metadata": {
        "id": "fdG4PZjHuRnd"
      },
      "execution_count": 1,
      "outputs": []
    },
    {
      "cell_type": "markdown",
      "source": [
        "class Rover"
      ],
      "metadata": {
        "id": "aBPgm6IMuZcK"
      }
    },
    {
      "cell_type": "code",
      "source": [
        "class Rover:\n",
        "    def __init__(self, x, y, direction):\n",
        "        self.x = x\n",
        "        self.y = y\n",
        "        self.direction = direction\n",
        "\n",
        "    def move_forward(self, grid):\n",
        "        if not grid.is_obstacle(self.x, self.y):\n",
        "            self.direction.move_forward(self)\n",
        "\n",
        "    def turn_left(self):\n",
        "        self.direction = self.direction.turn_left()\n",
        "\n",
        "    def turn_right(self):\n",
        "        self.direction = self.direction.turn_right()\n",
        "\n",
        "    def get_position(self):\n",
        "        return self.x, self.y\n",
        "\n",
        "    def get_direction(self):\n",
        "        return self.direction.__class__.__name__\n",
        "\n",
        "    def get_status_report(self):\n",
        "        return f\"Rover is at ({self.x}, {self.y}) facing {self.get_direction()}.\"\n"
      ],
      "metadata": {
        "id": "qUYwXtZkuZmY"
      },
      "execution_count": 2,
      "outputs": []
    },
    {
      "cell_type": "markdown",
      "source": [
        "class Grid"
      ],
      "metadata": {
        "id": "pq_jIAMNue1H"
      }
    },
    {
      "cell_type": "code",
      "source": [
        "class Grid:\n",
        "    def __init__(self, width, height):\n",
        "        self.width = width\n",
        "        self.height = height\n",
        "        self.obstacles = []\n",
        "\n",
        "    def add_obstacle(self, x, y):\n",
        "        self.obstacles.append((x, y))\n",
        "\n",
        "    def is_obstacle(self, x, y):\n",
        "        return (x, y) in self.obstacles"
      ],
      "metadata": {
        "id": "U1M-5ni-ue9d"
      },
      "execution_count": 3,
      "outputs": []
    },
    {
      "cell_type": "markdown",
      "source": [
        "class Command"
      ],
      "metadata": {
        "id": "do4Y8uizufEE"
      }
    },
    {
      "cell_type": "code",
      "source": [
        "class Command:\n",
        "    def execute(self):\n",
        "        pass\n",
        "\n",
        "class MoveCommand(Command):\n",
        "    def __init__(self, rover, grid):\n",
        "        self.rover = rover\n",
        "        self.grid = grid\n",
        "\n",
        "    def execute(self):\n",
        "        self.rover.move_forward(self.grid)\n",
        "\n",
        "class LeftCommand(Command):\n",
        "    def __init__(self, rover):\n",
        "        self.rover = rover\n",
        "\n",
        "    def execute(self):\n",
        "        self.rover.turn_left()\n",
        "\n",
        "class RightCommand(Command):\n",
        "    def __init__(self, rover):\n",
        "        self.rover = rover\n",
        "\n",
        "    def execute(self):\n",
        "        self.rover.turn_right()"
      ],
      "metadata": {
        "id": "VEPRzK3uufKk"
      },
      "execution_count": 4,
      "outputs": []
    },
    {
      "cell_type": "markdown",
      "source": [
        "Main script"
      ],
      "metadata": {
        "id": "aSFx6s-VuzIz"
      }
    },
    {
      "cell_type": "code",
      "source": [
        "# Initialize the grid and the rover\n",
        "grid = Grid(10, 10)\n",
        "grid.add_obstacle(2, 2)\n",
        "grid.add_obstacle(3, 5)\n",
        "\n",
        "rover = Rover(0, 0, North())\n",
        "\n",
        "# Commands to execute\n",
        "commands = [\n",
        "    MoveCommand(rover, grid),\n",
        "    MoveCommand(rover, grid),\n",
        "    RightCommand(rover),\n",
        "    MoveCommand(rover, grid),\n",
        "    LeftCommand(rover),\n",
        "    MoveCommand(rover, grid)\n",
        "]\n",
        "\n",
        "# Execute commands\n",
        "for command in commands:\n",
        "    command.execute()\n",
        "\n",
        "# Output the result\n",
        "print(\"Rover Position:\", rover.get_position())\n",
        "print(\"Rover Direction:\", rover.get_direction())\n",
        "print(rover.get_status_report())"
      ],
      "metadata": {
        "colab": {
          "base_uri": "https://localhost:8080/"
        },
        "id": "r68Z44yDuzco",
        "outputId": "582b9734-6c07-4c59-b9da-09e54643ff65"
      },
      "execution_count": 5,
      "outputs": [
        {
          "output_type": "stream",
          "name": "stdout",
          "text": [
            "Rover Position: (1, 3)\n",
            "Rover Direction: North\n",
            "Rover is at (1, 3) facing North.\n"
          ]
        }
      ]
    }
  ]
}